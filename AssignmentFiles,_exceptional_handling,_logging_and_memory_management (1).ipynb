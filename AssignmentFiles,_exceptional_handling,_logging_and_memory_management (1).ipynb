{
  "nbformat": 4,
  "nbformat_minor": 0,
  "metadata": {
    "colab": {
      "provenance": []
    },
    "kernelspec": {
      "name": "python3",
      "display_name": "Python 3"
    },
    "language_info": {
      "name": "python"
    }
  },
  "cells": [
    {
      "cell_type": "markdown",
      "source": [
        "Files, exceptional handling, logging and    \n",
        "memory management Questions:\n",
        "\n",
        "# 1.What is the difference between interpreted and compiled languages\n",
        " - **interpreted language:** Here , code is executed line by line, and code is converted into machine code without separate compilation steps.Ex:JavaScript, Python (altough its considered a mix of  interpreted and compiled language, as it is desgined for PVM).\n",
        "   **compiled languages:** Here, source code is transformed into machine code by compiler,which can be understand by CPU. Example: C,C++.\n",
        "\n",
        "\n",
        "# 2.What is exception handling in Python\n",
        " - While writing multiple pyhton codes,at times one of the line of code may throw exception , resulting an automatic termination for the subsequent codes. Hence, code is written in a exception block , `try:` and `exception:`  syntex , so that specific error can be caught in an variable contaner, and other codes executed perfectly.\n",
        "\n",
        "\n",
        "# 3.What is the purpose of the finally block in exception handling\n",
        " - `finally:` block is written at the end of the code, it is executed at the last, while exception is raised or not, irespective of that `finally:` block code is executed. At times it could be an additional burden for the developer, as it has very limited real time use.But as a best practice developer should use it(e.g. after File operation , under `finally` block, file.close(), can be used).\n",
        "\n",
        "\n",
        "# 4.What is logging in Python\n",
        " - Logging in Python is a built-in module ,instead of printing or capturing a error in avaribale, logging module helps to capture the error messages in a separate log file, which makes devlopers ans users to identify the error details and analyis it for further steps. Logging has different level, lowest level is 'Noset`, DEBUG, INFO, WARNING, CIRITICAL are other useful levels.\n",
        "\n",
        "\n",
        "# 5.What is the significance of the __del__ method in Python\n",
        " -The __del__ method in Python is a special method (destructor) that is called when an object is about to be destroyed.\n",
        "\n",
        "\n",
        "# 6.What is the difference between import and from ... import in Python\n",
        " - Import is used for modules, and from....import is used for package (from package import the module).\n",
        "\n",
        "\n",
        "# 7.How can you handle multiple exceptions in Python\n",
        " - `Exception` itself is a class in python, which contains all the errors in python.In `exception` block, developer can multiple exception blocks to capture different exception. e.g. 1st exception as `keyerror`, 2nd error as `typeerror`etc.\n",
        "\n",
        "\n",
        "# 8.What is the purpose of the with statement when handling files in Python\n",
        " - With statement ensures that file is closed properly after the block of code is executed.\n",
        "\n",
        "# 9.What is the difference between multithreading and multiprocessing\n",
        " -Multithreading: Runs multiple threads  within the same process.\n",
        " -Multiprocessing:Runs multiple processes, each with its own memory space.\n",
        "\n",
        "\n",
        "# 10.What are the advantages of using logging in a program\n",
        " - logging function helps to capture the different steps of the code execution and save it in a separate file, where it can be referred later for users/developers.\n",
        "\n",
        "\n",
        "# 11.What is memory management in Python\n",
        " -Memory management in Python refers to the process by which Python handles the allocation, use, and release of memory during program execution.\n",
        "\n",
        "\n",
        "# 12.What are the basic steps involved in exception handling in Python\n",
        " -the basic steps in Python exception handling are:\n",
        " 1) Use a try block to wrap code that might raise an exception.\n",
        " 2) Handle exceptions using except blocks, optionally adding else for code to run if no exception occurs, and finally for cleanup actions.\n",
        "\n",
        "\n",
        "# 13.Why is memory management important in Python\n",
        " -Memory management is important in Python to ensure efficient use of system resources and maintain optimal performance\n",
        "\n",
        "\n",
        "# 14.What is the role of try and except in exception handling\n",
        " -`try:` block is where developer writte the the line of codes.\n",
        " -'except:`block is where exception is contained and catch in a varibale.\n",
        "\n",
        " 15.How does Python's garbage collection system work\n",
        "# 16.What is the purpose of the else block in exception handling\n",
        "- `else:` block is executed when `try:` block is executed without any exception.\n",
        "\n",
        "\n",
        "# 17.What are the common logging levels in Python\n",
        " - common logging levels are 'DEBUG','INFO','WARNING','ERROR','CRITICAL'.\n",
        "\n",
        "\n",
        "# 18.What is the difference between os.fork() and multiprocessing in Python\n",
        " -os.fork():Creates a child process by directly cloning the current process.\n",
        " -multiprocessing:A high-level library to create and manage processes.\n",
        "\n",
        "\n",
        "# 19.What is the importance of closing a file in Python\n",
        " - File closing important because, if file is open after code execution, it may incur issues like file locking or data corruption etc.\n",
        "\n",
        "\n",
        "# 20.What is the difference between file.read() and file.readline() in Python\n",
        " - file.read(): It block of code can read all the content of a file.\n",
        " -file.readline():Reads a single line from the file.\n",
        "\n",
        "# 21.What is the logging module in Python used for\n",
        " - Its is used for tracking steps of the code runs,and highlight/captures/reports different steps. sysntex is 'import logging'.\n",
        "\n",
        "\n",
        "# 22.What is the os module in Python used for in file handling\n",
        " - OS module is imported/used to interact with oerating system and performing various operating system-related tasks, including file and directory handling.\n",
        "\n",
        "\n",
        "# 23.What are the challenges associated with memory management in Python\n",
        " -Garbage Collection Overhead.\n",
        "\n",
        "# 24.How do you raise an exception manually in Python\n",
        " - raise ExceptionType(\"Error message\")\n",
        "\n",
        "# 25.Why is it important to use multithreading in certain applications?\n",
        " -it can significantly improve performance, responsiveness, and resource utilization."
      ],
      "metadata": {
        "id": "aA6sV5qnp-su"
      }
    },
    {
      "cell_type": "code",
      "execution_count": null,
      "metadata": {
        "id": "C-f-syGYp64L"
      },
      "outputs": [],
      "source": [
        "# 1.How can you open a file for writing in Python and write a string to it\n",
        "myFile=open(\"File1.txt\",\"w\")\n",
        "myFile.write(\".How can you open a file for writing in Python and write a string to it\")\n",
        "myFile.close()"
      ]
    },
    {
      "cell_type": "code",
      "source": [
        "#  2.Write a Python program to read the contents of a file and print each line\n",
        "with open(\"File2.txt\",\"a\") as f:\n",
        " f.write(\"Print the 2nd line\\n\")\n",
        " f.write(\"Print the 3rd line\\n\")\n",
        " f.write(\"Print the 4th line\\n\")\n",
        "with open(\"File2.txt\",\"r\") as f:\n",
        " for i in f:\n",
        "  print(i)\n"
      ],
      "metadata": {
        "colab": {
          "base_uri": "https://localhost:8080/"
        },
        "id": "qewpZfMdkHwq",
        "outputId": "ca900dd2-cec0-464b-8219-a927971c0b44"
      },
      "execution_count": null,
      "outputs": [
        {
          "output_type": "stream",
          "name": "stdout",
          "text": [
            "\n",
            "\n",
            "Print the 2nd line\n",
            "\n",
            "Print the 3rd line\n",
            "\n",
            "Print the 4th line\n",
            "\n"
          ]
        }
      ]
    },
    {
      "cell_type": "code",
      "source": [
        "# 3. How would you handle a case where the file doesn't exist while trying to open it for reading\n",
        "try:\n",
        "  with open('example5.txt','r') as f:\n",
        "   f.read()\n",
        "except Exception as e:\n",
        "  print(f\"Exception message is :{e}\")"
      ],
      "metadata": {
        "colab": {
          "base_uri": "https://localhost:8080/"
        },
        "id": "4TOGXCERWZWO",
        "outputId": "aa529428-5c09-49ec-87e1-f2ecd7019dec"
      },
      "execution_count": null,
      "outputs": [
        {
          "output_type": "stream",
          "name": "stdout",
          "text": [
            "Exception message is :[Errno 2] No such file or directory: 'example5.txt'\n"
          ]
        }
      ]
    },
    {
      "cell_type": "code",
      "source": [
        "# 4.Write a Python script that reads from one file and writes its content to another file\n",
        "with open(\"File2.txt\",'r') as f:\n",
        "  filedetails=f.readlines()\n",
        "with open('newContent.txt','w') as f:\n",
        "  f.writelines(filedetails)\n"
      ],
      "metadata": {
        "id": "kf2uECGOWSmu"
      },
      "execution_count": null,
      "outputs": []
    },
    {
      "cell_type": "code",
      "source": [
        "# 5. How would you catch and handle division by zero error in Python.\n",
        "try:\n",
        "  print(10/0)\n",
        "except ZeroDivisionError as e:\n",
        "  print(f\"Error is: {e}\")\n",
        "  print(f\"since the deno value is zero,using default value 1 : {10/1}\")\n"
      ],
      "metadata": {
        "colab": {
          "base_uri": "https://localhost:8080/"
        },
        "id": "gIqNoOuFOpIY",
        "outputId": "cce7cb79-3ecf-4433-f2dc-01012a3f0e66"
      },
      "execution_count": null,
      "outputs": [
        {
          "output_type": "stream",
          "name": "stdout",
          "text": [
            "Error is: division by zero\n",
            "since the deno value is zero,using default value 1 : 10.0\n"
          ]
        }
      ]
    },
    {
      "cell_type": "code",
      "source": [
        "# 6.Write a Python program that logs an error message to a log file\n",
        "# when a division by zero exception occurs\n",
        "import logging\n",
        "import os\n",
        "\n",
        "'''Log file not being created in google colab, so code is written in\n",
        "VS code and uploaded in github with log file in different windows folder'''\n",
        "\n",
        "log_file_path=r'D:\\Data Analytics Course\\Python Assignment - 5th One - 29th Dec 2024\\LogFile'\n",
        "logging.basicConfig(filename=log_file_path,level=logging.DEBUG)\n",
        "def divide(a,b):\n",
        "  return a/b\n",
        "\n",
        "try:\n",
        " for i in range(-5,3):\n",
        "  print(f\"i is {i} and i+1 is {i+1}\")\n",
        "  divide(i,i+1)\n",
        "except Exception as e:\n",
        "  logging.error(f\"The error is {e}\")\n",
        "\n",
        "print(f\"Log file saved to: {log_file_path}\")"
      ],
      "metadata": {
        "id": "rWUQst3wOpTo",
        "colab": {
          "base_uri": "https://localhost:8080/"
        },
        "outputId": "636ba7ba-930b-4a72-9ee0-90786fc479f7"
      },
      "execution_count": null,
      "outputs": [
        {
          "output_type": "stream",
          "name": "stderr",
          "text": [
            "ERROR:root:The error is division by zero\n"
          ]
        },
        {
          "output_type": "stream",
          "name": "stdout",
          "text": [
            "i is -5 and i+1 is -4\n",
            "i is -4 and i+1 is -3\n",
            "i is -3 and i+1 is -2\n",
            "i is -2 and i+1 is -1\n",
            "i is -1 and i+1 is 0\n",
            "Log file saved to: D:\\Data Analytics Course\\Python Assignment - 5th One - 29th Dec 2024\\LogFile\n"
          ]
        }
      ]
    },
    {
      "cell_type": "code",
      "source": [
        "# 7.How do you log information at different levels (INFO, ERROR, WARNING)\n",
        "# in Python using the logging module\n",
        "\n",
        "import logging\n",
        "import os\n",
        "log_file_path=r'D:\\Data Analytics Course\\Python Assignment - 5th One - 29th Dec 2024\\Question7_LogFile.txt'\n",
        "logging.basicConfig(filename=log_file_path,level=logging.DEBUG)\n",
        "\n",
        "List_of_grades=[]\n",
        "Grade=True\n",
        "while True:\n",
        "  Grade=input(\" Input the Grade (type 'done' to complete) \").strip().lower()\n",
        "  logging.error(f\"ERROR: No grades were entered, the list is empty\")\n",
        "  if Grade=='done':\n",
        "    break\n",
        "  try:\n",
        "    Grade_value=int(Grade)\n",
        "    if Grade_value<=0 or Grade_value>=100:\n",
        "      logging.WARNING(f\"WARNING: Invalid grade 'abc' entered, please enter a numeric grade between 0 and 100\")\n",
        "    else:\n",
        "      List_of_grades.append(Grade_value)\n",
        "  except Exception as e:\n",
        "    logging.error(f\"The error is {e}\")\n",
        "print(List_of_grades)\n",
        "print(f\"Log file saved to: {log_file_path}\")\n"
      ],
      "metadata": {
        "id": "C6AldKt1OpqX",
        "colab": {
          "base_uri": "https://localhost:8080/"
        },
        "outputId": "605dfba6-8023-42b2-f621-b46c6e7c07a7"
      },
      "execution_count": null,
      "outputs": [
        {
          "name": "stdout",
          "output_type": "stream",
          "text": [
            " Input the Grade (type 'done' to complete) 66\n"
          ]
        },
        {
          "output_type": "stream",
          "name": "stderr",
          "text": [
            "ERROR:root:ERROR: No grades were entered, the list is empty\n"
          ]
        },
        {
          "name": "stdout",
          "output_type": "stream",
          "text": [
            " Input the Grade (type 'done' to complete) 77\n"
          ]
        },
        {
          "output_type": "stream",
          "name": "stderr",
          "text": [
            "ERROR:root:ERROR: No grades were entered, the list is empty\n"
          ]
        },
        {
          "name": "stdout",
          "output_type": "stream",
          "text": [
            " Input the Grade (type 'done' to complete) done\n"
          ]
        },
        {
          "output_type": "stream",
          "name": "stderr",
          "text": [
            "ERROR:root:ERROR: No grades were entered, the list is empty\n"
          ]
        },
        {
          "output_type": "stream",
          "name": "stdout",
          "text": [
            "[66, 77]\n",
            "Log file saved to: D:\\Data Analytics Course\\Python Assignment - 5th One - 29th Dec 2024\\Question7_LogFile.txt\n"
          ]
        }
      ]
    },
    {
      "cell_type": "code",
      "source": [
        "# 8. Write a program to handle a file opening error using exception handling\n",
        "try:\n",
        "    with open(\"newContent1.txt\", \"r\") as myfile:\n",
        "        content = myfile.read()\n",
        "        print(content)\n",
        "except FileNotFoundError:\n",
        "    print(\"Error: The file 'newContent.txt' was not found.\")\n",
        "except PermissionError:\n",
        "    print(\"Error: Permission denied to open 'newContent.txt'.\")\n",
        "except Exception as e:\n",
        "    print(f\"An error occurred: {e}\")\n"
      ],
      "metadata": {
        "id": "W4u1jS6HGmme",
        "colab": {
          "base_uri": "https://localhost:8080/"
        },
        "outputId": "95205f25-ae4a-4ee7-90b7-8a3b851c0b42"
      },
      "execution_count": null,
      "outputs": [
        {
          "output_type": "stream",
          "name": "stdout",
          "text": [
            "Error: The file 'newContent.txt' was not found.\n"
          ]
        }
      ]
    },
    {
      "cell_type": "code",
      "source": [
        "# 9. How can you read a file line by line and store its content in a list in Python\n",
        "# Open the file and read its lines\n",
        "content='''\n",
        "Chasing 162, Australia achieved their target before the tea session,\n",
        "despite facing an Indian bowling attack without the injured Jasprit Bumrah.\n",
        "This victory marked Australia's first Border-Gavaskar trophy win since 2014-15.'''\n",
        "\n",
        "with open('contentfile1.txt', 'w') as f:\n",
        "    f.write(content)\n",
        "with open('contentfile1.txt', 'r') as f:\n",
        "    filedetails = f.readlines()\n",
        "content_list = []\n",
        "\n",
        "for line in filedetails:\n",
        "    content_list.append(line.strip())\n",
        "print(content_list)\n"
      ],
      "metadata": {
        "colab": {
          "base_uri": "https://localhost:8080/"
        },
        "id": "Hm-yAVYsWmkF",
        "outputId": "27b6550f-f512-4142-a63e-6a7da818b9a9"
      },
      "execution_count": null,
      "outputs": [
        {
          "output_type": "stream",
          "name": "stdout",
          "text": [
            "['', 'Chasing 162, Australia achieved their target before the tea session,', 'despite facing an Indian bowling attack without the injured Jasprit Bumrah.', \"This victory marked Australia's first Border-Gavaskar trophy win since 2014-15.\"]\n"
          ]
        }
      ]
    },
    {
      "cell_type": "code",
      "source": [
        "# 10.How can you append data to an existing file in Python\n",
        "latest_content='''Pat Cummins has come back to haunt India, yet again.\n",
        "With a smile on his face, faith in his heart and immaculate trust in his approach.'''\n",
        "with open('contentfile.txt','a') as f:\n",
        "  f.write(latest_content)\n",
        "with open('contentfile.txt','r') as f:\n",
        "  filedetails=f.readlines()\n",
        "details_list=[]\n",
        "for line in filedetails:\n",
        "  details_list.append(line.strip()+\"\\n\")\n",
        "print(details_list)"
      ],
      "metadata": {
        "colab": {
          "base_uri": "https://localhost:8080/"
        },
        "id": "DULoAXoNWp_X",
        "outputId": "28dd28cf-0ddc-411c-a4a4-4b2467811738"
      },
      "execution_count": null,
      "outputs": [
        {
          "output_type": "stream",
          "name": "stdout",
          "text": [
            "['Pat Cummins has come back to haunt India, yet again.\\n', 'With a smile on his face, faith in his heart and immaculate trust in his approach.\\n']\n"
          ]
        }
      ]
    },
    {
      "cell_type": "code",
      "source": [
        "# 11.Write a Python program that uses a try-except block to\n",
        "# handle an error when attempting to access a\n",
        "# dictionary key that doesn't exist\n",
        "skill_mapping={\"Tulsi\":\"Python\",\n",
        "               \"Chandan\":\"Data science & Python\",\n",
        "               \"Madhu\":\"Java script\"}\n",
        "\n",
        "try:\n",
        " print(skill_mapping[\"varun\"])\n",
        "except KeyError as e:\n",
        "  print(f\"The keyerror is: {e}, does not exist in the dictionary\")"
      ],
      "metadata": {
        "colab": {
          "base_uri": "https://localhost:8080/"
        },
        "id": "urQYLl93LnR9",
        "outputId": "11d2149e-4f12-44be-a8c9-0d71ea43b13a"
      },
      "execution_count": null,
      "outputs": [
        {
          "output_type": "stream",
          "name": "stdout",
          "text": [
            "The keyerror is: 'varun', does not exist in the dictionary\n"
          ]
        }
      ]
    },
    {
      "cell_type": "code",
      "source": [
        "# 12.Write a program that demonstrates using\n",
        "# multiple except blocks to handle different types of exceptions\n",
        "# ValueError: invalid literal for int() with base 10: 'yui'\n",
        "# ZeroDivisionError: division by zero\n",
        "\n",
        "try:\n",
        " age=int(input(\"Input your Age\"))\n",
        " year=int(input(\"Input current year\"))\n",
        " print(age/year)\n",
        "except ValueError as e:\n",
        "  print(e)\n",
        "except ZeroDivisionError as y:\n",
        "  print(y)\n",
        "except Exception as z:\n",
        "  print(z)\n"
      ],
      "metadata": {
        "id": "RrC9Hla3O6nA",
        "colab": {
          "base_uri": "https://localhost:8080/"
        },
        "outputId": "3312e1c2-9774-4abe-b48e-98b2a91ec7cc"
      },
      "execution_count": null,
      "outputs": [
        {
          "output_type": "stream",
          "name": "stdout",
          "text": [
            "Input your Age25\n",
            "Input current yearhui\n",
            "invalid literal for int() with base 10: 'hui'\n"
          ]
        }
      ]
    },
    {
      "cell_type": "code",
      "source": [
        "# 13.How would you check if a file exists before attempting to read it in Python\n",
        "import os\n",
        "file_path = \"example.txt\"\n",
        "if os.path.exists(file_path):\n",
        "    with open(file_path, 'r') as file:\n",
        "        content = file.read()\n",
        "        print(content)\n",
        "else:\n",
        "    print(f\"The file {file_path} does not exist.\")\n"
      ],
      "metadata": {
        "id": "PK2RweDMX1D7"
      },
      "execution_count": null,
      "outputs": []
    },
    {
      "cell_type": "code",
      "source": [
        "# 14.Write a program that uses the logging module to log both informational and error messages\n",
        "import logging\n",
        "import os\n",
        "log_file_path=r'D:\\Data Analytics Course\\Python Assignment - 5th One - 29th Dec 2024\\Question14_LogFile'\n",
        "logging.basicConfig(filename=log_file_path,level=logging.DEBUG,filemode='w')\n",
        "\n",
        "logging.info(\"Program started. Processing department list.\")\n",
        "\n",
        "try:\n",
        " dept_list=[\"Finance\",\"IT\",\"HR\",\"Inventory\",\"Sales\"]\n",
        " for dept in dept_list:\n",
        "  print(dept_list[5])\n",
        "except Exception as e:\n",
        "  logging.error(f\"prog encountering Error: {e}\")\n",
        "logging.info(\"Program execution completed.\")\n",
        "print(f\"Log file saved to: {log_file_path}\")\n"
      ],
      "metadata": {
        "id": "hp4Sa3lbO_pu",
        "colab": {
          "base_uri": "https://localhost:8080/"
        },
        "outputId": "14a7fec5-b9bc-4049-d4df-8f953548958a"
      },
      "execution_count": null,
      "outputs": [
        {
          "output_type": "stream",
          "name": "stderr",
          "text": [
            "ERROR:root:prog encountering Error: list index out of range\n"
          ]
        },
        {
          "output_type": "stream",
          "name": "stdout",
          "text": [
            "Log file saved to: D:\\Data Analytics Course\\Python Assignment - 5th One - 29th Dec 2024\\Question14_LogFile\n"
          ]
        }
      ]
    },
    {
      "cell_type": "code",
      "source": [
        "# 15.Write a Python program that prints the content of a file and\n",
        "#  handles the case when the file is empty\n",
        "file_path = \"example7.txt\"\n",
        "def file_content(file_path):\n",
        "    try:\n",
        "        with open(file_path, 'r') as file:\n",
        "            content = file.read()\n",
        "            if content:\n",
        "                print(content)\n",
        "            else:\n",
        "                print(\"The file is empty.\")\n",
        "    except FileNotFoundError:\n",
        "        print(f\"The file {file_path} does not exist.\")\n",
        "    except Exception as e:\n",
        "        print(f\"An error occurred: {e}\")\n"
      ],
      "metadata": {
        "id": "oXG0XjWJO_73"
      },
      "execution_count": null,
      "outputs": []
    },
    {
      "cell_type": "code",
      "source": [
        "# 16.Demonstrate how to use memory profiling to check the memory usage of a small program\n"
      ],
      "metadata": {
        "id": "unsLmkd9PAIP"
      },
      "execution_count": null,
      "outputs": []
    },
    {
      "cell_type": "code",
      "source": [
        "#  17.Write a Python program to create and write a list of numbers to a file, one number per line.\n",
        "numbers = [1, 2, 3, 4, 5, 6, 7, 8, 9, 10]\n",
        "with open(\"numberlist.txt\", 'w') as f:\n",
        "    for number in numbers:\n",
        "        f.write(str(number) + '\\n')\n",
        "print(\" List is 'numberlist.txt'.\")\n"
      ],
      "metadata": {
        "id": "ry0HBHirZYfa",
        "colab": {
          "base_uri": "https://localhost:8080/"
        },
        "outputId": "94ca2671-20a5-4399-eb58-471b8f330a5f"
      },
      "execution_count": null,
      "outputs": [
        {
          "output_type": "stream",
          "name": "stdout",
          "text": [
            "Numbers have been written to 'numberlist.txt'.\n"
          ]
        }
      ]
    },
    {
      "cell_type": "code",
      "source": [
        "# 18.How would you implement a basic logging setup that logs to a file with rotation after 1MB?"
      ],
      "metadata": {
        "id": "ImFB3oobPIJW"
      },
      "execution_count": null,
      "outputs": []
    },
    {
      "cell_type": "code",
      "source": [
        "# 19.Write a program that handles both IndexError and KeyError using a try-except block\n",
        "\n",
        "Grossary_details = {\n",
        "    \"Powder\": \"Dermi Cool\",\n",
        "    \"Oil\": \"Fortune\",\n",
        "    \"Atta\": \"Ashirwad\",\n",
        "    \"WashingP\": \"Ariel\"\n",
        "}\n",
        "\n",
        "try:\n",
        "    print(Grossary_details[\"maida\"])\n",
        "except KeyError as e:\n",
        "    print(f\"KeyError: The key '{e.args[0]}' does not exist in the dictionary.\")\n",
        "\n",
        "try:\n",
        "    print(Grossary_details[0])\n",
        "except KeyError as e:\n",
        "    print(f\"KeyError: The key '{e.args[0]}' does not exist in the dictionary.\")\n",
        "except IndexError as e:\n",
        "    print(f\"IndexError: {e}\")\n"
      ],
      "metadata": {
        "id": "lnA4X3AOPITn",
        "colab": {
          "base_uri": "https://localhost:8080/"
        },
        "outputId": "059ff58c-1f67-4695-e2cd-4047fc51aa8d"
      },
      "execution_count": null,
      "outputs": [
        {
          "output_type": "stream",
          "name": "stdout",
          "text": [
            "KeyError: The key 'maida' does not exist in the dictionary.\n",
            "KeyError: The key '0' does not exist in the dictionary.\n"
          ]
        }
      ]
    },
    {
      "cell_type": "code",
      "source": [
        "# 20.How would you open a file and read its contents using a context manager in Python\n",
        "file_path = \"File1.txt\"\n",
        "with open(file_path, 'r') as file:\n",
        "    X = file.read()\n",
        "    print(X)\n"
      ],
      "metadata": {
        "id": "UvoMbMYkPIeH",
        "colab": {
          "base_uri": "https://localhost:8080/"
        },
        "outputId": "c6377126-d12c-4dd8-f0fc-7acce9744323"
      },
      "execution_count": null,
      "outputs": [
        {
          "output_type": "stream",
          "name": "stdout",
          "text": [
            ".How can you open a file for writing in Python and write a string to it\n"
          ]
        }
      ]
    },
    {
      "cell_type": "code",
      "source": [
        "# 21. Write a Python program that reads a file and prints the number of occurrences of a specific word\n"
      ],
      "metadata": {
        "id": "vhubpYXfPIm_"
      },
      "execution_count": null,
      "outputs": []
    },
    {
      "cell_type": "code",
      "source": [
        "# 22.How can you check if a file is empty before attempting to read its contents.\n"
      ],
      "metadata": {
        "id": "QfDDd0e5PIwe"
      },
      "execution_count": null,
      "outputs": []
    },
    {
      "cell_type": "code",
      "source": [
        "# 23. Write a Python program that writes to a log file when an error occurs during file handling.\n",
        "import logging\n",
        "import os\n",
        "log_file_path=r'D:\\Data Analytics Course\\Python Assignment - 5th One - 29th Dec 2024\\Question14_LogFile'\n",
        "logging.basicConfig(filename=log_file_path,level=logging.DEBUG,filemode='w')\n",
        "\n",
        "logging.info(\"Program started. Processing department list.\")\n",
        "\n",
        "try:\n",
        " dept_list=[\"Finance\",\"IT\",\"HR\",\"Inventory\",\"Sales\"]\n",
        " for dept in dept_list:\n",
        "  print(dept_list[5])\n",
        "except Exception as e:\n",
        "  logging.error(f\"prog encountering Error: {e}\")\n",
        "logging.info(\"Program execution completed.\")\n",
        "print(f\"Log file saved to: {log_file_path}\")"
      ],
      "metadata": {
        "id": "KJh_mf1cPI6u"
      },
      "execution_count": null,
      "outputs": []
    }
  ]
}